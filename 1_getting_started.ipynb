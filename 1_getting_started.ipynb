{
 "cells": [
  {
   "cell_type": "code",
   "execution_count": 1,
   "metadata": {},
   "outputs": [],
   "source": [
    "import polars as pl"
   ]
  },
  {
   "cell_type": "code",
   "execution_count": 2,
   "metadata": {},
   "outputs": [],
   "source": [
    "from datetime import datetime"
   ]
  },
  {
   "cell_type": "markdown",
   "metadata": {},
   "source": [
    "# Lendo & Escrevendo"
   ]
  },
  {
   "cell_type": "code",
   "execution_count": 3,
   "metadata": {},
   "outputs": [],
   "source": [
    "df = pl.DataFrame(\n",
    "    {\n",
    "        \"integer\": [1, 2, 3],\n",
    "        \"date\": [\n",
    "            datetime(2025, 1, 1),\n",
    "            datetime(2025, 1, 2),\n",
    "            datetime(2025, 1, 3),\n",
    "        ],\n",
    "        \"float\": [4.0, 5.0, 6.0],\n",
    "        \"string\": [\"a\", \"b\", \"c\"],\n",
    "    }\n",
    ")"
   ]
  },
  {
   "cell_type": "markdown",
   "metadata": {},
   "source": [
    "O código acima está criando um `DataFrame` em Polars.\n",
    "\n",
    "### Descrição do Código\n",
    "\n",
    "1. **`pl.DataFrame`**:\n",
    "   - Esta é a classe usada para criar um novo DataFrame em Polars. Um DataFrame é uma estrutura de dados bidimensional, semelhante a uma tabela de banco de dados ou uma planilha do Excel, composta por linhas e colunas.\n",
    "\n",
    "2. **Dicionário de Dados**:\n",
    "   - O dicionário passado para `pl.DataFrame` define os dados e a estrutura do DataFrame. Cada chave do dicionário representa o nome de uma coluna, e o valor associado a cada chave é uma lista que contém os dados dessa coluna.\n",
    "   \n",
    "3. **Colunas do DataFrame**:\n",
    "   - `\"integer\"`: Uma coluna de inteiros, contendo os valores `[1, 2, 3]`.\n",
    "   - `\"date\"`: Uma coluna de datas, onde cada valor é uma instância de `datetime` representando uma data específica em janeiro de 2025.\n",
    "   - `\"float\"`: Uma coluna de números de ponto flutuante, com os valores `[4.0, 5.0, 6.0]`.\n",
    "   - `\"string\"`: Uma coluna de strings, contendo os valores `[\"a\", \"b\", \"c\"]`.\n",
    "\n",
    "### Vantagens e Uso\n",
    "\n",
    "- **Eficiência**: Polars é otimizado para desempenho, permitindo manipulações rápidas de grandes volumes de dados.\n",
    "- **Flexibilidade**: O suporte a tipos de dados variados (inteiros, floats, datetimes, strings) facilita o tratamento de conjuntos de dados complexos.\n",
    "- **Facilidade de Uso**: Criar DataFrames com dicionários torna a inicialização de dados simples e intuitiva.\n",
    "\n",
    "### Considerações\n",
    "\n",
    "- **Coerência de Tipos**: Certifique-se de que cada lista associada a uma chave no dicionário possui elementos do mesmo tipo para garantir a consistência dos dados.\n",
    "- **Comprimento das Listas**: Todas as listas devem ter o mesmo comprimento, já que cada posição nas listas representa uma linha no DataFrame."
   ]
  },
  {
   "cell_type": "code",
   "execution_count": 4,
   "metadata": {},
   "outputs": [
    {
     "name": "stdout",
     "output_type": "stream",
     "text": [
      "shape: (3, 4)\n",
      "┌─────────┬─────────────────────┬───────┬────────┐\n",
      "│ integer ┆ date                ┆ float ┆ string │\n",
      "│ ---     ┆ ---                 ┆ ---   ┆ ---    │\n",
      "│ i64     ┆ datetime[μs]        ┆ f64   ┆ str    │\n",
      "╞═════════╪═════════════════════╪═══════╪════════╡\n",
      "│ 1       ┆ 2025-01-01 00:00:00 ┆ 4.0   ┆ a      │\n",
      "│ 2       ┆ 2025-01-02 00:00:00 ┆ 5.0   ┆ b      │\n",
      "│ 3       ┆ 2025-01-03 00:00:00 ┆ 6.0   ┆ c      │\n",
      "└─────────┴─────────────────────┴───────┴────────┘\n"
     ]
    }
   ],
   "source": [
    "print(df)"
   ]
  },
  {
   "cell_type": "markdown",
   "metadata": {},
   "source": [
    "### Detalhes dos Tipos de Dados\n",
    "\n",
    "- **`integer` (`i64`)**: Representa uma coluna de inteiros de 64 bits.\n",
    "- **`date` (`datetime[μs]`)**: Representa uma coluna de datas/horas, com precisão de microssegundos.\n",
    "- **`float` (`f64`)**: Representa uma coluna de números de ponto flutuante de 64 bits.\n",
    "- **`string` (`str`)**: Representa uma coluna de strings.\n"
   ]
  },
  {
   "cell_type": "code",
   "execution_count": 5,
   "metadata": {},
   "outputs": [
    {
     "name": "stdout",
     "output_type": "stream",
     "text": [
      "shape: (3, 4)\n",
      "┌─────────┬────────────────────────────┬───────┬────────┐\n",
      "│ integer ┆ date                       ┆ float ┆ string │\n",
      "│ ---     ┆ ---                        ┆ ---   ┆ ---    │\n",
      "│ i64     ┆ str                        ┆ f64   ┆ str    │\n",
      "╞═════════╪════════════════════════════╪═══════╪════════╡\n",
      "│ 1       ┆ 2025-01-01T00:00:00.000000 ┆ 4.0   ┆ a      │\n",
      "│ 2       ┆ 2025-01-02T00:00:00.000000 ┆ 5.0   ┆ b      │\n",
      "│ 3       ┆ 2025-01-03T00:00:00.000000 ┆ 6.0   ┆ c      │\n",
      "└─────────┴────────────────────────────┴───────┴────────┘\n"
     ]
    }
   ],
   "source": [
    "df.write_csv(\"docs/data/output.csv\")\n",
    "df_csv = pl.read_csv(\"docs/data/output.csv\")\n",
    "print(df_csv)"
   ]
  },
  {
   "cell_type": "markdown",
   "metadata": {},
   "source": [
    "Esse código acima faz o seguinte:\n",
    "\n",
    "1. **`df.write_csv(\"docs/data/output.csv\")`**:\n",
    "   - Escreve o conteúdo do DataFrame `df` em um arquivo CSV localizado no caminho `\"docs/data/output.csv\"`.\n",
    "\n",
    "2. **`df_csv = pl.read_csv(\"docs/data/output.csv\")`**:\n",
    "   - Lê o arquivo CSV recém-criado e cria um novo DataFrame `df_csv` com os dados contidos nesse arquivo.\n",
    "\n",
    "3. **`print(df_csv)`**:\n",
    "   - Imprime o conteúdo do DataFrame `df_csv` no console, mostrando os dados lidos do arquivo CSV.\n",
    "\n",
    "Este processo salva o DataFrame em um arquivo CSV e, em seguida, lê o arquivo para recriar o DataFrame a partir do CSV, permitindo a verificação de que os dados foram salvos e lidos corretamente."
   ]
  },
  {
   "cell_type": "markdown",
   "metadata": {},
   "source": [
    "# Expressões"
   ]
  },
  {
   "cell_type": "markdown",
   "metadata": {},
   "source": [
    "As expressões são o ponto forte do Polars. Elas oferecem uma estrutura modular que permite combinar conceitos simples em consultas complexas. Abaixo, abordamos os componentes básicos que servem como blocos de construção (ou, na terminologia do Polars, `contextos`) para todas as suas consultas:\n",
    "\n",
    "- `select`\n",
    "- `filter`\n",
    "- `with_columns`\n",
    "- `group_by`"
   ]
  },
  {
   "cell_type": "markdown",
   "metadata": {},
   "source": [
    "## Select"
   ]
  },
  {
   "cell_type": "markdown",
   "metadata": {},
   "source": [
    "Para selecionar uma coluna, precisamos fazer duas coisas:\n",
    "\n",
    "1. Definir de qual DataFrame queremos os dados.\n",
    "2. Selecionar os dados que precisamos.\n",
    "\n",
    "No exemplo abaixo, você verá que selecionamos `col('*')`. <span style=\"color:yellow\">O asterisco representa todas as colunas.</span>"
   ]
  },
  {
   "cell_type": "code",
   "execution_count": 6,
   "metadata": {},
   "outputs": [],
   "source": [
    "import numpy as np"
   ]
  },
  {
   "cell_type": "code",
   "execution_count": 7,
   "metadata": {},
   "outputs": [],
   "source": [
    "data = {\n",
    "    \"a\": [0, 1, 2, 3, 4],\n",
    "    \"b\": [0.077466, 0.545195, 0.260404, 0.328957, 0.267925],\n",
    "    \"c\": [\n",
    "        datetime(2025, 12, 1),\n",
    "        datetime(2025, 12, 2),\n",
    "        datetime(2025, 12, 3),\n",
    "        datetime(2025, 12, 4),\n",
    "        datetime(2025, 12, 5)\n",
    "    ],\n",
    "    \"d\": [1.0, 2.0, np.nan, -42.0, None]\n",
    "}"
   ]
  },
  {
   "cell_type": "code",
   "execution_count": 8,
   "metadata": {},
   "outputs": [],
   "source": [
    "df = pl.DataFrame(data)"
   ]
  },
  {
   "cell_type": "code",
   "execution_count": 9,
   "metadata": {},
   "outputs": [
    {
     "data": {
      "text/html": [
       "<div><style>\n",
       ".dataframe > thead > tr,\n",
       ".dataframe > tbody > tr {\n",
       "  text-align: right;\n",
       "  white-space: pre-wrap;\n",
       "}\n",
       "</style>\n",
       "<small>shape: (5, 4)</small><table border=\"1\" class=\"dataframe\"><thead><tr><th>a</th><th>b</th><th>c</th><th>d</th></tr><tr><td>i64</td><td>f64</td><td>datetime[μs]</td><td>f64</td></tr></thead><tbody><tr><td>0</td><td>0.077466</td><td>2025-12-01 00:00:00</td><td>1.0</td></tr><tr><td>1</td><td>0.545195</td><td>2025-12-02 00:00:00</td><td>2.0</td></tr><tr><td>2</td><td>0.260404</td><td>2025-12-03 00:00:00</td><td>NaN</td></tr><tr><td>3</td><td>0.328957</td><td>2025-12-04 00:00:00</td><td>-42.0</td></tr><tr><td>4</td><td>0.267925</td><td>2025-12-05 00:00:00</td><td>null</td></tr></tbody></table></div>"
      ],
      "text/plain": [
       "shape: (5, 4)\n",
       "┌─────┬──────────┬─────────────────────┬───────┐\n",
       "│ a   ┆ b        ┆ c                   ┆ d     │\n",
       "│ --- ┆ ---      ┆ ---                 ┆ ---   │\n",
       "│ i64 ┆ f64      ┆ datetime[μs]        ┆ f64   │\n",
       "╞═════╪══════════╪═════════════════════╪═══════╡\n",
       "│ 0   ┆ 0.077466 ┆ 2025-12-01 00:00:00 ┆ 1.0   │\n",
       "│ 1   ┆ 0.545195 ┆ 2025-12-02 00:00:00 ┆ 2.0   │\n",
       "│ 2   ┆ 0.260404 ┆ 2025-12-03 00:00:00 ┆ NaN   │\n",
       "│ 3   ┆ 0.328957 ┆ 2025-12-04 00:00:00 ┆ -42.0 │\n",
       "│ 4   ┆ 0.267925 ┆ 2025-12-05 00:00:00 ┆ null  │\n",
       "└─────┴──────────┴─────────────────────┴───────┘"
      ]
     },
     "execution_count": 9,
     "metadata": {},
     "output_type": "execute_result"
    }
   ],
   "source": [
    "df.select(pl.col(\"*\"))"
   ]
  },
  {
   "cell_type": "markdown",
   "metadata": {},
   "source": [
    "Você também pode especificar as colunas específicas que deseja retornar. Existem duas maneiras de fazer isso. A primeira opção é passar os nomes das colunas, como visto abaixo."
   ]
  },
  {
   "cell_type": "code",
   "execution_count": 10,
   "metadata": {},
   "outputs": [
    {
     "data": {
      "text/html": [
       "<div><style>\n",
       ".dataframe > thead > tr,\n",
       ".dataframe > tbody > tr {\n",
       "  text-align: right;\n",
       "  white-space: pre-wrap;\n",
       "}\n",
       "</style>\n",
       "<small>shape: (5, 2)</small><table border=\"1\" class=\"dataframe\"><thead><tr><th>a</th><th>b</th></tr><tr><td>i64</td><td>f64</td></tr></thead><tbody><tr><td>0</td><td>0.077466</td></tr><tr><td>1</td><td>0.545195</td></tr><tr><td>2</td><td>0.260404</td></tr><tr><td>3</td><td>0.328957</td></tr><tr><td>4</td><td>0.267925</td></tr></tbody></table></div>"
      ],
      "text/plain": [
       "shape: (5, 2)\n",
       "┌─────┬──────────┐\n",
       "│ a   ┆ b        │\n",
       "│ --- ┆ ---      │\n",
       "│ i64 ┆ f64      │\n",
       "╞═════╪══════════╡\n",
       "│ 0   ┆ 0.077466 │\n",
       "│ 1   ┆ 0.545195 │\n",
       "│ 2   ┆ 0.260404 │\n",
       "│ 3   ┆ 0.328957 │\n",
       "│ 4   ┆ 0.267925 │\n",
       "└─────┴──────────┘"
      ]
     },
     "execution_count": 10,
     "metadata": {},
     "output_type": "execute_result"
    }
   ],
   "source": [
    "df.select(pl.col(\"a\", \"b\"))"
   ]
  },
  {
   "cell_type": "markdown",
   "metadata": {},
   "source": [
    "## Filter"
   ]
  },
  {
   "cell_type": "markdown",
   "metadata": {},
   "source": [
    "<span style=\"color:yellow\">A opção `filter` nos permite criar um subconjunto do DataFrame. Usamos o mesmo DataFrame de antes e filtramos entre duas datas especificadas.</span>"
   ]
  },
  {
   "cell_type": "code",
   "execution_count": 11,
   "metadata": {},
   "outputs": [
    {
     "data": {
      "text/html": [
       "<div><style>\n",
       ".dataframe > thead > tr,\n",
       ".dataframe > tbody > tr {\n",
       "  text-align: right;\n",
       "  white-space: pre-wrap;\n",
       "}\n",
       "</style>\n",
       "<small>shape: (2, 4)</small><table border=\"1\" class=\"dataframe\"><thead><tr><th>a</th><th>b</th><th>c</th><th>d</th></tr><tr><td>i64</td><td>f64</td><td>datetime[μs]</td><td>f64</td></tr></thead><tbody><tr><td>1</td><td>0.545195</td><td>2025-12-02 00:00:00</td><td>2.0</td></tr><tr><td>2</td><td>0.260404</td><td>2025-12-03 00:00:00</td><td>NaN</td></tr></tbody></table></div>"
      ],
      "text/plain": [
       "shape: (2, 4)\n",
       "┌─────┬──────────┬─────────────────────┬─────┐\n",
       "│ a   ┆ b        ┆ c                   ┆ d   │\n",
       "│ --- ┆ ---      ┆ ---                 ┆ --- │\n",
       "│ i64 ┆ f64      ┆ datetime[μs]        ┆ f64 │\n",
       "╞═════╪══════════╪═════════════════════╪═════╡\n",
       "│ 1   ┆ 0.545195 ┆ 2025-12-02 00:00:00 ┆ 2.0 │\n",
       "│ 2   ┆ 0.260404 ┆ 2025-12-03 00:00:00 ┆ NaN │\n",
       "└─────┴──────────┴─────────────────────┴─────┘"
      ]
     },
     "execution_count": 11,
     "metadata": {},
     "output_type": "execute_result"
    }
   ],
   "source": [
    "df.filter(\n",
    "    pl.col(\"c\").is_between(datetime(2025,12,2), datetime(2025,12,3)),\n",
    ")"
   ]
  },
  {
   "cell_type": "markdown",
   "metadata": {},
   "source": [
    "O código acima filtra o DataFrame `df` para retornar apenas as linhas onde a coluna `\"c\"` contém datas entre 2 de dezembro de 2025 e 3 de dezembro de 2025, inclusivamente."
   ]
  },
  {
   "cell_type": "markdown",
   "metadata": {},
   "source": [
    "Com o `filter`, você também pode criar filtros mais complexos que incluam várias colunas."
   ]
  },
  {
   "cell_type": "code",
   "execution_count": 12,
   "metadata": {},
   "outputs": [
    {
     "data": {
      "text/html": [
       "<div><style>\n",
       ".dataframe > thead > tr,\n",
       ".dataframe > tbody > tr {\n",
       "  text-align: right;\n",
       "  white-space: pre-wrap;\n",
       "}\n",
       "</style>\n",
       "<small>shape: (3, 4)</small><table border=\"1\" class=\"dataframe\"><thead><tr><th>a</th><th>b</th><th>c</th><th>d</th></tr><tr><td>i64</td><td>f64</td><td>datetime[μs]</td><td>f64</td></tr></thead><tbody><tr><td>0</td><td>0.077466</td><td>2025-12-01 00:00:00</td><td>1.0</td></tr><tr><td>1</td><td>0.545195</td><td>2025-12-02 00:00:00</td><td>2.0</td></tr><tr><td>3</td><td>0.328957</td><td>2025-12-04 00:00:00</td><td>-42.0</td></tr></tbody></table></div>"
      ],
      "text/plain": [
       "shape: (3, 4)\n",
       "┌─────┬──────────┬─────────────────────┬───────┐\n",
       "│ a   ┆ b        ┆ c                   ┆ d     │\n",
       "│ --- ┆ ---      ┆ ---                 ┆ ---   │\n",
       "│ i64 ┆ f64      ┆ datetime[μs]        ┆ f64   │\n",
       "╞═════╪══════════╪═════════════════════╪═══════╡\n",
       "│ 0   ┆ 0.077466 ┆ 2025-12-01 00:00:00 ┆ 1.0   │\n",
       "│ 1   ┆ 0.545195 ┆ 2025-12-02 00:00:00 ┆ 2.0   │\n",
       "│ 3   ┆ 0.328957 ┆ 2025-12-04 00:00:00 ┆ -42.0 │\n",
       "└─────┴──────────┴─────────────────────┴───────┘"
      ]
     },
     "execution_count": 12,
     "metadata": {},
     "output_type": "execute_result"
    }
   ],
   "source": [
    "df.filter((pl.col(\"a\") <= 3) & (pl.col(\"d\").is_not_nan()))"
   ]
  },
  {
   "cell_type": "markdown",
   "metadata": {},
   "source": [
    "O código acima filtra o DataFrame `df` para retornar apenas as linhas onde:\n",
    "\n",
    "- A coluna `\"a\"` tem valores menores ou iguais a 3.\n",
    "- A coluna `\"d\"` não contém valores `NaN`.\n",
    "\n",
    "Isso significa que apenas as linhas que atendem a ambas as condições serão incluídas no resultado."
   ]
  },
  {
   "cell_type": "markdown",
   "metadata": {},
   "source": [
    "Aqui está o detalhamento de cada parte do código acima:\n",
    "\n",
    "1. **`df.filter(...)`**:\n",
    "   - **Função `filter`**: Aplica um filtro ao DataFrame `df`, retornando apenas as linhas que atendem à condição especificada dentro dos parênteses.\n",
    "\n",
    "2. **`(pl.col(\"a\") <= 3)`**:\n",
    "   - **`pl.col(\"a\")`**: Seleciona a coluna `\"a\"` do DataFrame.\n",
    "   - **`<= 3`**: Aplica uma condição para verificar se os valores da coluna `\"a\"` são menores ou iguais a 3.\n",
    "\n",
    "3. **`&`**:\n",
    "   - **Operador `&`**: <span style=\"color:yellow\">Realiza uma operação lógica \"E\" (AND) entre duas condições. Ambas as condições precisam ser verdadeiras para que a linha seja incluída no resultado final.</span>\n",
    "\n",
    "4. **`(pl.col(\"d\").is_not_nan())`**:\n",
    "   - **`pl.col(\"d\")`**: Seleciona a coluna `\"d\"` do DataFrame.\n",
    "   - **`is_not_nan()`**: Verifica se os valores da coluna `\"d\"` não são `NaN` (Not a Number). Retorna `True` para valores que não são `NaN` e `False` para valores `NaN`.\n",
    "\n",
    "### Resumo\n",
    "\n",
    "O código filtra o DataFrame `df`, retornando apenas as linhas onde:\n",
    "\n",
    "- Os valores da coluna `\"a\"` são menores ou iguais a 3.\n",
    "- Os valores da coluna `\"d\"` não são `NaN`."
   ]
  },
  {
   "cell_type": "markdown",
   "metadata": {},
   "source": [
    "## Adicionar colunas (`with_columns`)"
   ]
  },
  {
   "cell_type": "markdown",
   "metadata": {},
   "source": [
    "`with_columns` permite criar novas colunas para suas análises. Criamos duas novas colunas, `e` e `b+42`. Primeiro, somamos todos os valores da coluna `b` e armazenamos os resultados na coluna `e`. Em seguida, adicionamos 42 aos valores de `b`, criando uma nova coluna `b+42` para armazenar esses resultados."
   ]
  },
  {
   "cell_type": "code",
   "execution_count": 13,
   "metadata": {},
   "outputs": [
    {
     "data": {
      "text/html": [
       "<div><style>\n",
       ".dataframe > thead > tr,\n",
       ".dataframe > tbody > tr {\n",
       "  text-align: right;\n",
       "  white-space: pre-wrap;\n",
       "}\n",
       "</style>\n",
       "<small>shape: (5, 6)</small><table border=\"1\" class=\"dataframe\"><thead><tr><th>a</th><th>b</th><th>c</th><th>d</th><th>e</th><th>b+42</th></tr><tr><td>i64</td><td>f64</td><td>datetime[μs]</td><td>f64</td><td>f64</td><td>f64</td></tr></thead><tbody><tr><td>0</td><td>0.077466</td><td>2025-12-01 00:00:00</td><td>1.0</td><td>1.479947</td><td>42.077466</td></tr><tr><td>1</td><td>0.545195</td><td>2025-12-02 00:00:00</td><td>2.0</td><td>1.479947</td><td>42.545195</td></tr><tr><td>2</td><td>0.260404</td><td>2025-12-03 00:00:00</td><td>NaN</td><td>1.479947</td><td>42.260404</td></tr><tr><td>3</td><td>0.328957</td><td>2025-12-04 00:00:00</td><td>-42.0</td><td>1.479947</td><td>42.328957</td></tr><tr><td>4</td><td>0.267925</td><td>2025-12-05 00:00:00</td><td>null</td><td>1.479947</td><td>42.267925</td></tr></tbody></table></div>"
      ],
      "text/plain": [
       "shape: (5, 6)\n",
       "┌─────┬──────────┬─────────────────────┬───────┬──────────┬───────────┐\n",
       "│ a   ┆ b        ┆ c                   ┆ d     ┆ e        ┆ b+42      │\n",
       "│ --- ┆ ---      ┆ ---                 ┆ ---   ┆ ---      ┆ ---       │\n",
       "│ i64 ┆ f64      ┆ datetime[μs]        ┆ f64   ┆ f64      ┆ f64       │\n",
       "╞═════╪══════════╪═════════════════════╪═══════╪══════════╪═══════════╡\n",
       "│ 0   ┆ 0.077466 ┆ 2025-12-01 00:00:00 ┆ 1.0   ┆ 1.479947 ┆ 42.077466 │\n",
       "│ 1   ┆ 0.545195 ┆ 2025-12-02 00:00:00 ┆ 2.0   ┆ 1.479947 ┆ 42.545195 │\n",
       "│ 2   ┆ 0.260404 ┆ 2025-12-03 00:00:00 ┆ NaN   ┆ 1.479947 ┆ 42.260404 │\n",
       "│ 3   ┆ 0.328957 ┆ 2025-12-04 00:00:00 ┆ -42.0 ┆ 1.479947 ┆ 42.328957 │\n",
       "│ 4   ┆ 0.267925 ┆ 2025-12-05 00:00:00 ┆ null  ┆ 1.479947 ┆ 42.267925 │\n",
       "└─────┴──────────┴─────────────────────┴───────┴──────────┴───────────┘"
      ]
     },
     "execution_count": 13,
     "metadata": {},
     "output_type": "execute_result"
    }
   ],
   "source": [
    "df.with_columns(pl.col(\"b\").sum().alias(\"e\"), (pl.col(\"b\") + 42).alias(\"b+42\"))"
   ]
  },
  {
   "cell_type": "markdown",
   "metadata": {},
   "source": [
    "### Detalhamento\n",
    "\n",
    "1. **`df.with_columns(...)`**:\n",
    "   - **Função `with_columns`**: Adiciona uma ou mais novas colunas ao DataFrame `df` <span style=\"color:yellow\">ou modifica colunas existentes</span>. Retorna um novo DataFrame com as alterações aplicadas.\n",
    "   - **Parâmetros**: Aceita uma ou mais expressões Polars que definem as novas colunas a serem criadas ou alteradas.\n",
    "\n",
    "2. **`pl.col(\"b\")`**:\n",
    "   - **Função `pl.col`**: Seleciona a coluna `\"b\"` do DataFrame para operações subsequentes.\n",
    "   - **Parâmetro**: \n",
    "     - `\"b\"`: O nome da coluna a ser selecionada.\n",
    "\n",
    "3. **`sum()`**:\n",
    "   - **Método `sum`**: Calcula a soma de todos os valores na coluna selecionada. No contexto de `pl.col(\"b\")`, calcula a soma de todos os valores na coluna `\"b\"`.\n",
    "\n",
    "4. **`alias(\"e\")`**:\n",
    "   - **Método `alias`**: Renomeia a coluna resultante da operação anterior.\n",
    "   - **Parâmetro**:\n",
    "     - `\"e\"`: O novo nome para a coluna que contém a soma dos valores de `\"b\"`.\n",
    "\n",
    "5. **`(pl.col(\"b\") + 42)`**:\n",
    "   - **Operação `+`**: Adiciona 42 a cada valor na coluna `\"b\"`.\n",
    "\n",
    "6. **`.alias(\"b+42\")`**:\n",
    "   - **Método `alias`**: Renomeia a nova coluna resultante da operação de adição.\n",
    "   - **Parâmetro**:\n",
    "     - `\"b+42\"`: O novo nome para a coluna que contém os valores de `\"b\"` aumentados em 42.\n",
    "\n",
    "### Resumo\n",
    "\n",
    "O código cria duas novas colunas no DataFrame `df`:\n",
    "\n",
    "- **Coluna `\"e\"`**: Contém a soma de todos os valores da coluna `\"b\"`.\n",
    "- **Coluna `\"b+42\"`**: Contém os valores da coluna `\"b\"` com 42 adicionado a cada um deles.\n",
    "\n",
    "Essas operações são aplicadas ao DataFrame `df` usando a função `with_columns`, que permite adicionar ou modificar colunas de forma expressiva."
   ]
  },
  {
   "cell_type": "markdown",
   "metadata": {},
   "source": [
    "## Group by"
   ]
  },
  {
   "cell_type": "markdown",
   "metadata": {},
   "source": [
    "Vamos criar um novo DataFrame para a funcionalidade de **agrupar por**. Este novo DataFrame incluirá vários \"grupos\" pelos quais queremos agrupar."
   ]
  },
  {
   "cell_type": "code",
   "execution_count": 14,
   "metadata": {},
   "outputs": [],
   "source": [
    "df2 = pl.DataFrame(\n",
    "    {\n",
    "        \"x\": range(8),\n",
    "        \"y\": [\"A\", \"A\", \"A\", \"B\",\"B\", \"C\", \"X\", \"X\"],\n",
    "    }\n",
    ")"
   ]
  },
  {
   "cell_type": "code",
   "execution_count": 15,
   "metadata": {},
   "outputs": [
    {
     "data": {
      "text/html": [
       "<div><style>\n",
       ".dataframe > thead > tr,\n",
       ".dataframe > tbody > tr {\n",
       "  text-align: right;\n",
       "  white-space: pre-wrap;\n",
       "}\n",
       "</style>\n",
       "<small>shape: (8, 2)</small><table border=\"1\" class=\"dataframe\"><thead><tr><th>x</th><th>y</th></tr><tr><td>i64</td><td>str</td></tr></thead><tbody><tr><td>0</td><td>&quot;A&quot;</td></tr><tr><td>1</td><td>&quot;A&quot;</td></tr><tr><td>2</td><td>&quot;A&quot;</td></tr><tr><td>3</td><td>&quot;B&quot;</td></tr><tr><td>4</td><td>&quot;B&quot;</td></tr><tr><td>5</td><td>&quot;C&quot;</td></tr><tr><td>6</td><td>&quot;X&quot;</td></tr><tr><td>7</td><td>&quot;X&quot;</td></tr></tbody></table></div>"
      ],
      "text/plain": [
       "shape: (8, 2)\n",
       "┌─────┬─────┐\n",
       "│ x   ┆ y   │\n",
       "│ --- ┆ --- │\n",
       "│ i64 ┆ str │\n",
       "╞═════╪═════╡\n",
       "│ 0   ┆ A   │\n",
       "│ 1   ┆ A   │\n",
       "│ 2   ┆ A   │\n",
       "│ 3   ┆ B   │\n",
       "│ 4   ┆ B   │\n",
       "│ 5   ┆ C   │\n",
       "│ 6   ┆ X   │\n",
       "│ 7   ┆ X   │\n",
       "└─────┴─────┘"
      ]
     },
     "execution_count": 15,
     "metadata": {},
     "output_type": "execute_result"
    }
   ],
   "source": [
    "df2"
   ]
  },
  {
   "cell_type": "code",
   "execution_count": 16,
   "metadata": {},
   "outputs": [
    {
     "data": {
      "text/html": [
       "<div><style>\n",
       ".dataframe > thead > tr,\n",
       ".dataframe > tbody > tr {\n",
       "  text-align: right;\n",
       "  white-space: pre-wrap;\n",
       "}\n",
       "</style>\n",
       "<small>shape: (4, 2)</small><table border=\"1\" class=\"dataframe\"><thead><tr><th>y</th><th>len</th></tr><tr><td>str</td><td>u32</td></tr></thead><tbody><tr><td>&quot;A&quot;</td><td>3</td></tr><tr><td>&quot;B&quot;</td><td>2</td></tr><tr><td>&quot;C&quot;</td><td>1</td></tr><tr><td>&quot;X&quot;</td><td>2</td></tr></tbody></table></div>"
      ],
      "text/plain": [
       "shape: (4, 2)\n",
       "┌─────┬─────┐\n",
       "│ y   ┆ len │\n",
       "│ --- ┆ --- │\n",
       "│ str ┆ u32 │\n",
       "╞═════╪═════╡\n",
       "│ A   ┆ 3   │\n",
       "│ B   ┆ 2   │\n",
       "│ C   ┆ 1   │\n",
       "│ X   ┆ 2   │\n",
       "└─────┴─────┘"
      ]
     },
     "execution_count": 16,
     "metadata": {},
     "output_type": "execute_result"
    }
   ],
   "source": [
    "df2.group_by(\"y\", maintain_order=True).len()"
   ]
  },
  {
   "cell_type": "markdown",
   "metadata": {},
   "source": [
    "### Detalhamento\n",
    "\n",
    "1. **`df2.group_by(\"y\", maintain_order=True)`**:\n",
    "   - **Função `group_by`**: Agrupa as linhas do DataFrame `df2` com base nos valores da coluna especificada, criando grupos de dados para operações agregadas.\n",
    "   - **Parâmetros**:\n",
    "     - `\"y\"`: Nome da coluna usada para agrupar os dados. As linhas que compartilham o mesmo valor na coluna `\"y\"` serão agrupadas.\n",
    "     - `maintain_order=True`: Mantém a ordem das linhas dentro de cada grupo como estão no DataFrame original. Sem essa opção, a ordem das linhas pode ser alterada durante o agrupamento.\n",
    "\n",
    "2. **`.len()`**:\n",
    "   - **Método `len`**: Calcula o número de elementos (ou o tamanho) de cada grupo formado pelo método `group_by`.\n",
    "   - Sem parâmetros: Retorna um DataFrame com a contagem de elementos em cada grupo.\n",
    "\n",
    "### Resumo\n",
    "\n",
    "O código agrupa o DataFrame `df2` pela coluna `\"y\"` enquanto mantém a ordem original das linhas dentro de cada grupo e calcula o número de elementos em cada grupo. O resultado é um novo DataFrame que mostra quantas linhas estão presentes em cada grupo baseado na coluna `\"y\"`."
   ]
  },
  {
   "cell_type": "code",
   "execution_count": 17,
   "metadata": {},
   "outputs": [
    {
     "data": {
      "text/html": [
       "<div><style>\n",
       ".dataframe > thead > tr,\n",
       ".dataframe > tbody > tr {\n",
       "  text-align: right;\n",
       "  white-space: pre-wrap;\n",
       "}\n",
       "</style>\n",
       "<small>shape: (4, 3)</small><table border=\"1\" class=\"dataframe\"><thead><tr><th>y</th><th>count</th><th>sum</th></tr><tr><td>str</td><td>u32</td><td>i64</td></tr></thead><tbody><tr><td>&quot;A&quot;</td><td>3</td><td>3</td></tr><tr><td>&quot;B&quot;</td><td>2</td><td>7</td></tr><tr><td>&quot;C&quot;</td><td>1</td><td>5</td></tr><tr><td>&quot;X&quot;</td><td>2</td><td>13</td></tr></tbody></table></div>"
      ],
      "text/plain": [
       "shape: (4, 3)\n",
       "┌─────┬───────┬─────┐\n",
       "│ y   ┆ count ┆ sum │\n",
       "│ --- ┆ ---   ┆ --- │\n",
       "│ str ┆ u32   ┆ i64 │\n",
       "╞═════╪═══════╪═════╡\n",
       "│ A   ┆ 3     ┆ 3   │\n",
       "│ B   ┆ 2     ┆ 7   │\n",
       "│ C   ┆ 1     ┆ 5   │\n",
       "│ X   ┆ 2     ┆ 13  │\n",
       "└─────┴───────┴─────┘"
      ]
     },
     "execution_count": 17,
     "metadata": {},
     "output_type": "execute_result"
    }
   ],
   "source": [
    "df2.group_by(\"y\", maintain_order=True).agg(\n",
    "    pl.col(\"*\").count().alias(\"count\"),\n",
    "    pl.col(\"*\").sum().alias(\"sum\"),\n",
    ")"
   ]
  },
  {
   "cell_type": "markdown",
   "metadata": {},
   "source": [
    "1. **Agrupamento dos Dados:**\n",
    "   - `df2.group_by(\"y\", maintain_order=True)`: Agrupa o DataFrame `df2` pela coluna `\"y\"`. O parâmetro `maintain_order=True` assegura que a ordem original dos dados é mantida dentro de cada grupo, embora isso possa afetar o desempenho.\n",
    "\n",
    "2. **Agregação:**\n",
    "   - `.agg(...)`: Aplica operações de agregação aos grupos definidos.\n",
    "   - `pl.col(\"*\").count().alias(\"count\")`: Conta o número de linhas em cada grupo. O uso de `pl.col(\"*\")` indica que a contagem será aplicada a todas as colunas, mas, na prática, é apenas necessário um nome de coluna ou `pl.count()` para contar as linhas.\n",
    "   - `pl.col(\"*\").sum().alias(\"sum\")`: Calcula a soma de todas as colunas para cada grupo. O `pl.col(\"*\")` indica que a soma será calculada para cada coluna numérica presente no DataFrame.\n",
    "\n",
    "**Resultado:**\n",
    "O resultado desse código é um novo DataFrame que contém, para cada valor único na coluna `\"y\"`:\n",
    "\n",
    "- Uma coluna chamada `\"count\"` que representa o número de linhas no grupo.\n",
    "- Uma coluna chamada `\"sum\"` que representa a soma dos valores de cada coluna numérica dentro do grupo."
   ]
  },
  {
   "cell_type": "markdown",
   "metadata": {},
   "source": [
    "## Combination"
   ]
  },
  {
   "cell_type": "markdown",
   "metadata": {},
   "source": [
    "Abaixo estão alguns exemplos de como combinar operações para criar o DataFrame necessário."
   ]
  },
  {
   "cell_type": "code",
   "execution_count": 18,
   "metadata": {},
   "outputs": [
    {
     "name": "stdout",
     "output_type": "stream",
     "text": [
      "shape: (5, 3)\n",
      "┌─────┬──────────┬──────────┐\n",
      "│ a   ┆ b        ┆ a * b    │\n",
      "│ --- ┆ ---      ┆ ---      │\n",
      "│ i64 ┆ f64      ┆ f64      │\n",
      "╞═════╪══════════╪══════════╡\n",
      "│ 0   ┆ 0.077466 ┆ 0.0      │\n",
      "│ 1   ┆ 0.545195 ┆ 0.545195 │\n",
      "│ 2   ┆ 0.260404 ┆ 0.520808 │\n",
      "│ 3   ┆ 0.328957 ┆ 0.986871 │\n",
      "│ 4   ┆ 0.267925 ┆ 1.0717   │\n",
      "└─────┴──────────┴──────────┘\n"
     ]
    }
   ],
   "source": [
    "df_x = df.with_columns((pl.col(\"a\") * pl.col(\"b\")).alias(\"a * b\")).select(\n",
    "    pl.all().exclude([\"c\", \"d\"])\n",
    ")\n",
    "\n",
    "print(df_x)"
   ]
  },
  {
   "cell_type": "markdown",
   "metadata": {},
   "source": [
    "1. **Criação de uma Nova Coluna:**\n",
    "   - `(pl.col(\"a\") * pl.col(\"b\")).alias(\"a * b\")`: Calcula o produto das colunas `\"a\"` e `\"b\"` e cria uma nova coluna com o nome `\"a * b\"`.\n",
    "\n",
    "2. **Atualização do DataFrame:**\n",
    "   - `df.with_columns(...)`: Adiciona a nova coluna calculada ao DataFrame original `df`.\n",
    "\n",
    "3. **Seleção de Colunas:**\n",
    "   - `.select(pl.all().exclude([\"c\", \"d\"]))`: Seleciona todas as colunas do DataFrame, exceto as colunas `\"c\"` e `\"d\"`, removendo-as do resultado final.\n",
    "\n",
    "4. **Resultado Final:**\n",
    "   - O DataFrame resultante `df_x` inclui todas as colunas originais (exceto `\"c\"` e `\"d\"`) e a nova coluna `\"a * b\"`.\n",
    "\n",
    "5. **Exibição do DataFrame:**\n",
    "   - `print(df_x)`: Exibe o DataFrame resultante, mostrando as colunas selecionadas e a nova coluna calculada."
   ]
  },
  {
   "cell_type": "code",
   "execution_count": 19,
   "metadata": {},
   "outputs": [
    {
     "name": "stdout",
     "output_type": "stream",
     "text": [
      "shape: (5, 4)\n",
      "┌─────┬──────────┬─────────────────────┬──────────┐\n",
      "│ a   ┆ b        ┆ c                   ┆ a * b    │\n",
      "│ --- ┆ ---      ┆ ---                 ┆ ---      │\n",
      "│ i64 ┆ f64      ┆ datetime[μs]        ┆ f64      │\n",
      "╞═════╪══════════╪═════════════════════╪══════════╡\n",
      "│ 0   ┆ 0.077466 ┆ 2025-12-01 00:00:00 ┆ 0.0      │\n",
      "│ 1   ┆ 0.545195 ┆ 2025-12-02 00:00:00 ┆ 0.545195 │\n",
      "│ 2   ┆ 0.260404 ┆ 2025-12-03 00:00:00 ┆ 0.520808 │\n",
      "│ 3   ┆ 0.328957 ┆ 2025-12-04 00:00:00 ┆ 0.986871 │\n",
      "│ 4   ┆ 0.267925 ┆ 2025-12-05 00:00:00 ┆ 1.0717   │\n",
      "└─────┴──────────┴─────────────────────┴──────────┘\n"
     ]
    }
   ],
   "source": [
    "df_y = df.with_columns((pl.col(\"a\") * pl.col(\"b\")).alias(\"a * b\")).select(\n",
    "    pl.all().exclude(\"d\")\n",
    ")\n",
    "\n",
    "print(df_y)"
   ]
  },
  {
   "cell_type": "markdown",
   "metadata": {},
   "source": [
    "1. **Criação de uma Nova Coluna:**\n",
    "   - `(pl.col(\"a\") * pl.col(\"b\")).alias(\"a * b\")`: Este trecho calcula o produto dos valores das colunas `\"a\"` e `\"b\"` para cada linha do DataFrame e cria uma nova coluna chamada `\"a * b\"` com os resultados.\n",
    "\n",
    "2. **Atualização do DataFrame:**\n",
    "   - `df.with_columns(...)`: Adiciona a nova coluna `\"a * b\"` ao DataFrame original `df`.\n",
    "\n",
    "3. **Seleção de Colunas:**\n",
    "   - `.select(pl.all().exclude(\"d\"))`: Seleciona todas as colunas do DataFrame atualizado, exceto a coluna `\"d\"`. Isso significa que o resultado não incluirá a coluna `\"d\"`.\n",
    "\n",
    "4. **Resultado Final:**\n",
    "   - O DataFrame resultante `df_y` contém todas as colunas do DataFrame original (com a nova coluna `\"a * b\"` adicionada), exceto a coluna `\"d\"`.\n",
    "\n",
    "5. **Exibição do DataFrame:**\n",
    "   - `print(df_y)`: Imprime o DataFrame `df_y`, mostrando as colunas selecionadas e a nova coluna calculada.\n",
    "\n",
    "<span style=\"color: yellow; font-weight: bold; font-style: italic;\">Este código essencialmente adiciona uma nova coluna calculada ao DataFrame e remove uma coluna existente antes de exibir o resultado. </span>"
   ]
  },
  {
   "cell_type": "markdown",
   "metadata": {},
   "source": [
    "## Combinando DataFrames"
   ]
  },
  {
   "cell_type": "markdown",
   "metadata": {},
   "source": [
    "Há duas maneiras de combinar DataFrames, dependendo do caso de uso: <span style=\"color: blue; background-color: lightgreen;\">junção e concatenação</span>."
   ]
  },
  {
   "cell_type": "markdown",
   "metadata": {},
   "source": [
    "### Join"
   ]
  },
  {
   "cell_type": "markdown",
   "metadata": {},
   "source": [
    "O Polars suporta todos os tipos de junção (por exemplo, esquerda, direita, interna, externa). Vamos dar uma olhada mais de perto em como juntar dois DataFrames em um único DataFrame. Nossos dois DataFrames têm uma coluna do tipo 'id': a e x. Podemos usar essas colunas para juntar os DataFrames neste exemplo."
   ]
  },
  {
   "cell_type": "code",
   "execution_count": 20,
   "metadata": {},
   "outputs": [],
   "source": [
    "df = pl.DataFrame(\n",
    "    {\n",
    "        \"a\": range(8),\n",
    "        \"b\": np.random.rand(8),\n",
    "        \"d\": [1.0,2.0,float(\"nan\"), float(\"nan\"), 0.0, -5.0, -42.0, None],\n",
    "    }\n",
    ")"
   ]
  },
  {
   "cell_type": "markdown",
   "metadata": {},
   "source": [
    "1. **Importações Necessárias:**\n",
    "\n",
    "   Para que o código funcione, é necessário importar a biblioteca Polars e Numpy:\n",
    "\n",
    "   ```python\n",
    "   import polars as pl\n",
    "   import numpy as np\n",
    "   ```\n",
    "\n",
    "2. **Criação do DataFrame:**\n",
    "\n",
    "   O DataFrame `df` é criado com a função `pl.DataFrame`, passando um dicionário como argumento. Cada chave do dicionário representa o nome de uma coluna e o valor associado é uma lista ou outra estrutura que contém os dados para essa coluna.\n",
    "\n",
    "   ```python\n",
    "   df = pl.DataFrame(\n",
    "       {\n",
    "           \"a\": range(8),\n",
    "           \"b\": np.random.rand(8),\n",
    "           \"d\": [1.0, 2.0, float(\"nan\"), float(\"nan\"), 0.0, -5.0, -42.0, None],\n",
    "       }\n",
    "   )\n",
    "   ```\n",
    "\n",
    "   - **Coluna \"a\":** \n",
    "     - **`range(8)`**: Gera uma sequência de números inteiros de 0 a 7. Portanto, a coluna \"a\" conterá os valores [0, 1, 2, 3, 4, 5, 6, 7].\n",
    "\n",
    "   - **Coluna \"b\":**\n",
    "     - **`np.random.rand(8)`**: Cria uma lista de 8 números aleatórios entre 0.0 e 1.0. Cada execução do código gerará valores diferentes.\n",
    "\n",
    "   - **Coluna \"d\":**\n",
    "     - Contém uma lista de valores [1.0, 2.0, `float(\"nan\")`, `float(\"nan\")`, 0.0, -5.0, -42.0, `None`].\n",
    "     - **`float(\"nan\")`**: Representa um valor \"Not a Number\", comum em cálculos que resultam em indefinições.\n",
    "     - **`None`**: Representa um valor nulo ou ausente.\n",
    "\n",
    "### Resultado\n",
    "\n",
    "Após a execução, o DataFrame `df` terá a seguinte estrutura:\n",
    "\n",
    "|   a |       b       |    d     |\n",
    "|----:|:-------------:|:--------:|\n",
    "|   0 | valor_aleatório |   1.0   |\n",
    "|   1 | valor_aleatório |   2.0   |\n",
    "|   2 | valor_aleatório |  NaN    |\n",
    "|   3 | valor_aleatório |  NaN    |\n",
    "|   4 | valor_aleatório |   0.0   |\n",
    "|   5 | valor_aleatório |  -5.0   |\n",
    "|   6 | valor_aleatório | -42.0   |\n",
    "|   7 | valor_aleatório |  None   |\n",
    "\n",
    "### Observações\n",
    "\n",
    "- A coluna \"b\" conterá valores diferentes a cada execução devido ao uso da função aleatória `np.random.rand`.\n",
    "- A presença de `NaN` e `None` na coluna \"d\" indica valores indefinidos ou ausentes, que podem necessitar de tratamento especial dependendo das operações subsequentes."
   ]
  },
  {
   "cell_type": "code",
   "execution_count": 21,
   "metadata": {},
   "outputs": [
    {
     "data": {
      "text/html": [
       "<div><style>\n",
       ".dataframe > thead > tr,\n",
       ".dataframe > tbody > tr {\n",
       "  text-align: right;\n",
       "  white-space: pre-wrap;\n",
       "}\n",
       "</style>\n",
       "<small>shape: (8, 3)</small><table border=\"1\" class=\"dataframe\"><thead><tr><th>a</th><th>b</th><th>d</th></tr><tr><td>i64</td><td>f64</td><td>f64</td></tr></thead><tbody><tr><td>0</td><td>0.774758</td><td>1.0</td></tr><tr><td>1</td><td>0.051611</td><td>2.0</td></tr><tr><td>2</td><td>0.287443</td><td>NaN</td></tr><tr><td>3</td><td>0.151926</td><td>NaN</td></tr><tr><td>4</td><td>0.211105</td><td>0.0</td></tr><tr><td>5</td><td>0.888085</td><td>-5.0</td></tr><tr><td>6</td><td>0.974784</td><td>-42.0</td></tr><tr><td>7</td><td>0.491723</td><td>null</td></tr></tbody></table></div>"
      ],
      "text/plain": [
       "shape: (8, 3)\n",
       "┌─────┬──────────┬───────┐\n",
       "│ a   ┆ b        ┆ d     │\n",
       "│ --- ┆ ---      ┆ ---   │\n",
       "│ i64 ┆ f64      ┆ f64   │\n",
       "╞═════╪══════════╪═══════╡\n",
       "│ 0   ┆ 0.774758 ┆ 1.0   │\n",
       "│ 1   ┆ 0.051611 ┆ 2.0   │\n",
       "│ 2   ┆ 0.287443 ┆ NaN   │\n",
       "│ 3   ┆ 0.151926 ┆ NaN   │\n",
       "│ 4   ┆ 0.211105 ┆ 0.0   │\n",
       "│ 5   ┆ 0.888085 ┆ -5.0  │\n",
       "│ 6   ┆ 0.974784 ┆ -42.0 │\n",
       "│ 7   ┆ 0.491723 ┆ null  │\n",
       "└─────┴──────────┴───────┘"
      ]
     },
     "execution_count": 21,
     "metadata": {},
     "output_type": "execute_result"
    }
   ],
   "source": [
    "df"
   ]
  },
  {
   "cell_type": "code",
   "execution_count": 22,
   "metadata": {},
   "outputs": [],
   "source": [
    "df2 = pl.DataFrame(\n",
    "    {\n",
    "        \"x\": range(8),\n",
    "        \"y\": [\"A\", \"A\", \"A\", \"B\", \"B\", \"C\", \"X\", \"X\"],\n",
    "    }\n",
    ")"
   ]
  },
  {
   "cell_type": "markdown",
   "metadata": {},
   "source": [
    "Esse código cria um DataFrame `df2` com duas colunas, `x` e `y`, e 8 linhas.\n",
    "\n",
    "```python\n",
    "df2 = pl.DataFrame(\n",
    "    {\n",
    "        \"x\": range(8),\n",
    "        \"y\": [\"A\", \"A\", \"A\", \"B\", \"B\", \"C\", \"X\", \"X\"],\n",
    "    }\n",
    ")\n",
    "```\n",
    "\n",
    "### Estrutura do DataFrame\n",
    "\n",
    "- **Coluna \"x\":**\n",
    "  - **`range(8)`**: Cria uma sequência de números inteiros de 0 a 7. Assim, a coluna \"x\" terá os valores [0, 1, 2, 3, 4, 5, 6, 7].\n",
    "\n",
    "- **Coluna \"y\":**\n",
    "  - Contém uma lista de strings [\"A\", \"A\", \"A\", \"B\", \"B\", \"C\", \"X\", \"X\"].\n",
    "  - Esses valores representam categorias ou labels associadas aos valores da coluna \"x\".\n",
    "\n",
    "### Resultado\n",
    "\n",
    "O DataFrame `df2` resultante terá a seguinte estrutura:\n",
    "\n",
    "|  x  | y |\n",
    "|----:|:-:|\n",
    "|  0  | A |\n",
    "|  1  | A |\n",
    "|  2  | A |\n",
    "|  3  | B |\n",
    "|  4  | B |\n",
    "|  5  | C |\n",
    "|  6  | X |\n",
    "|  7  | X |\n",
    "\n",
    "### Observações\n",
    "\n",
    "- A coluna \"x\" representa uma sequência de números, enquanto a coluna \"y\" categoriza ou agrupa essas entradas em diferentes labels.\n",
    "- Essa estrutura é útil para operações como agrupamento ou agregação com base nas categorias da coluna \"y\"."
   ]
  },
  {
   "cell_type": "code",
   "execution_count": 23,
   "metadata": {},
   "outputs": [
    {
     "data": {
      "text/html": [
       "<div><style>\n",
       ".dataframe > thead > tr,\n",
       ".dataframe > tbody > tr {\n",
       "  text-align: right;\n",
       "  white-space: pre-wrap;\n",
       "}\n",
       "</style>\n",
       "<small>shape: (8, 2)</small><table border=\"1\" class=\"dataframe\"><thead><tr><th>x</th><th>y</th></tr><tr><td>i64</td><td>str</td></tr></thead><tbody><tr><td>0</td><td>&quot;A&quot;</td></tr><tr><td>1</td><td>&quot;A&quot;</td></tr><tr><td>2</td><td>&quot;A&quot;</td></tr><tr><td>3</td><td>&quot;B&quot;</td></tr><tr><td>4</td><td>&quot;B&quot;</td></tr><tr><td>5</td><td>&quot;C&quot;</td></tr><tr><td>6</td><td>&quot;X&quot;</td></tr><tr><td>7</td><td>&quot;X&quot;</td></tr></tbody></table></div>"
      ],
      "text/plain": [
       "shape: (8, 2)\n",
       "┌─────┬─────┐\n",
       "│ x   ┆ y   │\n",
       "│ --- ┆ --- │\n",
       "│ i64 ┆ str │\n",
       "╞═════╪═════╡\n",
       "│ 0   ┆ A   │\n",
       "│ 1   ┆ A   │\n",
       "│ 2   ┆ A   │\n",
       "│ 3   ┆ B   │\n",
       "│ 4   ┆ B   │\n",
       "│ 5   ┆ C   │\n",
       "│ 6   ┆ X   │\n",
       "│ 7   ┆ X   │\n",
       "└─────┴─────┘"
      ]
     },
     "execution_count": 23,
     "metadata": {},
     "output_type": "execute_result"
    }
   ],
   "source": [
    "df2"
   ]
  },
  {
   "cell_type": "code",
   "execution_count": 24,
   "metadata": {},
   "outputs": [],
   "source": [
    "joined = df.join(df2, left_on=\"a\", right_on=\"x\")"
   ]
  },
  {
   "cell_type": "markdown",
   "metadata": {},
   "source": [
    "O código acima executa uma operação de junção (join) entre dois DataFrames, `df` e `df2`. \n",
    "\n",
    "### Operação de Join\n",
    "\n",
    "<span style=\"color:red; font-weight: bold\">A operação de join combina colunas de dois DataFrames com base em uma chave ou condição específica. No caso desse código</span>:\n",
    "\n",
    "```python\n",
    "joined = df.join(df2, left_on=\"a\", right_on=\"x\")\n",
    "```\n",
    "\n",
    "- **DataFrames Envolvidos:**\n",
    "  - `df`: O primeiro DataFrame, que contém as colunas \"a\", \"b\", e \"d\".\n",
    "  - `df2`: O segundo DataFrame, que contém as colunas \"x\" e \"y\".\n",
    "\n",
    "- **Chaves de Junção:**\n",
    "  - **`left_on=\"a\"`**: Usa a coluna \"a\" de `df` como chave para a junção.\n",
    "  - **`right_on=\"x\"`**: Usa a coluna \"x\" de `df2` como chave para a junção.\n",
    "\n",
    "### Tipo de Join\n",
    "\n",
    "Por padrão, a operação `join` realiza um **inner join**, que retorna apenas as linhas onde as chaves de junção das duas tabelas correspondem.\n",
    "\n",
    "### Resultado da Junção\n",
    "\n",
    "O DataFrame `joined` resultante terá as seguintes colunas:\n",
    "\n",
    "- Todas as colunas de `df`: \"a\", \"b\", \"d\".\n",
    "- Todas as colunas de `df2`: \"x\", \"y\".\n",
    "\n",
    "Cada linha no DataFrame `joined` será o resultado da combinação de linhas de `df` e `df2` onde os valores das colunas \"a\" e \"x\" são iguais.\n",
    "\n",
    "### Exemplo de Como os Dados se Combinarão\n",
    "\n",
    "Suponha que `df` e `df2` sejam:\n",
    "\n",
    "```plaintext\n",
    "df:\n",
    "|  a |      b      |   d   |\n",
    "|---:|:-----------:|:-----:|\n",
    "|  0 | 0.123456    |  1.0  |\n",
    "|  1 | 0.654321    |  2.0  |\n",
    "|  2 | 0.789012    |  NaN  |\n",
    "|  3 | 0.234567    |  NaN  |\n",
    "|  4 | 0.345678    |  0.0  |\n",
    "|  5 | 0.456789    | -5.0  |\n",
    "|  6 | 0.567890    | -42.0 |\n",
    "|  7 | 0.678901    | None  |\n",
    "\n",
    "df2:\n",
    "|  x | y |\n",
    "|---:|:-:|\n",
    "|  0 | A |\n",
    "|  1 | A |\n",
    "|  2 | A |\n",
    "|  3 | B |\n",
    "|  4 | B |\n",
    "|  5 | C |\n",
    "|  6 | X |\n",
    "|  7 | X |\n",
    "```\n",
    "\n",
    "O DataFrame `joined` resultante seria:\n",
    "\n",
    "```plaintext\n",
    "joined:\n",
    "|  a |      b      |   d   |  x | y |\n",
    "|---:|:-----------:|:-----:|---:|:-:|\n",
    "|  0 | 0.123456    |  1.0  |  0 | A |\n",
    "|  1 | 0.654321    |  2.0  |  1 | A |\n",
    "|  2 | 0.789012    |  NaN  |  2 | A |\n",
    "|  3 | 0.234567    |  NaN  |  3 | B |\n",
    "|  4 | 0.345678    |  0.0  |  4 | B |\n",
    "|  5 | 0.456789    | -5.0  |  5 | C |\n",
    "|  6 | 0.567890    | -42.0 |  6 | X |\n",
    "|  7 | 0.678901    | None  |  7 | X |\n",
    "```\n",
    "\n",
    "### Resumo\n",
    "\n",
    "- **Finalidade**: Combinar dados de dois DataFrames com base em colunas comuns.\n",
    "- **Resultado**: Inclui apenas linhas onde as chaves de junção \"a\" (de `df`) e \"x\" (de `df2`) são iguais."
   ]
  },
  {
   "cell_type": "code",
   "execution_count": 25,
   "metadata": {},
   "outputs": [
    {
     "name": "stdout",
     "output_type": "stream",
     "text": [
      "shape: (8, 4)\n",
      "┌─────┬──────────┬───────┬─────┐\n",
      "│ a   ┆ b        ┆ d     ┆ y   │\n",
      "│ --- ┆ ---      ┆ ---   ┆ --- │\n",
      "│ i64 ┆ f64      ┆ f64   ┆ str │\n",
      "╞═════╪══════════╪═══════╪═════╡\n",
      "│ 0   ┆ 0.774758 ┆ 1.0   ┆ A   │\n",
      "│ 1   ┆ 0.051611 ┆ 2.0   ┆ A   │\n",
      "│ 2   ┆ 0.287443 ┆ NaN   ┆ A   │\n",
      "│ 3   ┆ 0.151926 ┆ NaN   ┆ B   │\n",
      "│ 4   ┆ 0.211105 ┆ 0.0   ┆ B   │\n",
      "│ 5   ┆ 0.888085 ┆ -5.0  ┆ C   │\n",
      "│ 6   ┆ 0.974784 ┆ -42.0 ┆ X   │\n",
      "│ 7   ┆ 0.491723 ┆ null  ┆ X   │\n",
      "└─────┴──────────┴───────┴─────┘\n"
     ]
    }
   ],
   "source": [
    "print(joined)"
   ]
  },
  {
   "cell_type": "markdown",
   "metadata": {},
   "source": [
    "No universo do Polars e da análise de dados em geral, uma junção (ou \"join\" em inglês) é uma operação que combina registros de duas tabelas (ou DataFrames) <span style=\"color:orange; font-weight:bold\">com base em uma condição comum</span>. \n",
    "\n",
    "<span style=\"color:lightgreen; font-weight:bold\">A junção é utilizada para reunir dados que estão dispersos em diferentes tabelas, permitindo análises mais completas e integradas</span>. \n",
    "\n",
    "Existem vários tipos de junções, cada uma atendendo a diferentes necessidades de combinação de dados:\n",
    "\n",
    "1. **Inner Join (Junção Interna)**: Retorna apenas os registros que têm correspondências em ambas as tabelas. Se não houver correspondência, o registro será descartado.\n",
    "   \n",
    "2. **Left Join (Junção à Esquerda)**: Retorna todos os registros da tabela à esquerda e os registros correspondentes da tabela à direita. Se não houver correspondência, os valores da tabela à direita serão `NULL`.\n",
    "\n",
    "3. **Right Join (Junção à Direita)**: Retorna todos os registros da tabela à direita e os registros correspondentes da tabela à esquerda. Se não houver correspondência, os valores da tabela à esquerda serão `NULL`.\n",
    "\n",
    "4. **Full Outer Join (Junção Externa Completa)**: Retorna todos os registros quando há uma correspondência em uma das tabelas. Registros sem correspondência em ambas as tabelas terão `NULL` nos campos onde não houver correspondência.\n",
    "\n",
    "5. **Cross Join (Junção Cruzada)**: Retorna o produto cartesiano das duas tabelas, ou seja, cada linha de uma tabela é combinada com todas as linhas da outra tabela.\n",
    "\n",
    "No Polars, as junções são realizadas usando métodos específicos, como `join`, que permitem especificar o tipo de junção e as colunas nas quais a junção será baseada. Por exemplo:\n",
    "\n",
    "```python\n",
    "import polars as pl\n",
    "\n",
    "# Supondo que temos dois DataFrames\n",
    "df1 = pl.DataFrame({\n",
    "    \"key\": [1, 2, 3],\n",
    "    \"value_df1\": [\"A\", \"B\", \"C\"]\n",
    "})\n",
    "\n",
    "df2 = pl.DataFrame({\n",
    "    \"key\": [1, 2, 4],\n",
    "    \"value_df2\": [\"X\", \"Y\", \"Z\"]\n",
    "})\n",
    "\n",
    "# Realizando uma junção interna (Inner Join) baseada na coluna 'key'\n",
    "result = df1.join(df2, on=\"key\", how=\"inner\")\n",
    "\n",
    "print(result)\n",
    "```\n",
    "\n",
    "O resultado do `print(result)` seria:\n",
    "\n",
    "```\n",
    "shape: (2, 3)\n",
    "┌─────┬──────────┬──────────┐\n",
    "│ key │ value_df1│ value_df2│\n",
    "│ --- │ ---      │ ---      │\n",
    "│ i64 │ str      │ str      │\n",
    "├─────┼──────────┼──────────┤\n",
    "│ 1   │ A        │ X        │\n",
    "│ 2   │ B        │ Y        │\n",
    "└─────┴──────────┴──────────┘\n",
    "```\n",
    "\n",
    "Neste exemplo, a junção interna retorna apenas as linhas onde a coluna `key` tem correspondências em ambos os DataFrames, resultando nas chaves `1` e `2`.\n",
    "\n",
    "Este código combina `df1` e `df2` usando uma junção interna na coluna `key`, resultando em um DataFrame que contém apenas as chaves presentes em ambos os DataFrames."
   ]
  },
  {
   "cell_type": "markdown",
   "metadata": {},
   "source": [
    "## Concat"
   ]
  },
  {
   "cell_type": "markdown",
   "metadata": {},
   "source": [
    "Também podemos concatenar dois DataFrames. A concatenação vertical tornará o DataFrame mais longo. A concatenação horizontal tornará o DataFrame mais largo. Abaixo, você pode ver o resultado de uma concatenação horizontal de nossos dois DataFrames."
   ]
  },
  {
   "cell_type": "code",
   "execution_count": 26,
   "metadata": {},
   "outputs": [],
   "source": [
    "stacked = df.hstack(df2)"
   ]
  },
  {
   "cell_type": "code",
   "execution_count": 27,
   "metadata": {},
   "outputs": [
    {
     "name": "stdout",
     "output_type": "stream",
     "text": [
      "shape: (8, 5)\n",
      "┌─────┬──────────┬───────┬─────┬─────┐\n",
      "│ a   ┆ b        ┆ d     ┆ x   ┆ y   │\n",
      "│ --- ┆ ---      ┆ ---   ┆ --- ┆ --- │\n",
      "│ i64 ┆ f64      ┆ f64   ┆ i64 ┆ str │\n",
      "╞═════╪══════════╪═══════╪═════╪═════╡\n",
      "│ 0   ┆ 0.774758 ┆ 1.0   ┆ 0   ┆ A   │\n",
      "│ 1   ┆ 0.051611 ┆ 2.0   ┆ 1   ┆ A   │\n",
      "│ 2   ┆ 0.287443 ┆ NaN   ┆ 2   ┆ A   │\n",
      "│ 3   ┆ 0.151926 ┆ NaN   ┆ 3   ┆ B   │\n",
      "│ 4   ┆ 0.211105 ┆ 0.0   ┆ 4   ┆ B   │\n",
      "│ 5   ┆ 0.888085 ┆ -5.0  ┆ 5   ┆ C   │\n",
      "│ 6   ┆ 0.974784 ┆ -42.0 ┆ 6   ┆ X   │\n",
      "│ 7   ┆ 0.491723 ┆ null  ┆ 7   ┆ X   │\n",
      "└─────┴──────────┴───────┴─────┴─────┘\n"
     ]
    }
   ],
   "source": [
    "print(stacked)"
   ]
  },
  {
   "cell_type": "markdown",
   "metadata": {},
   "source": [
    "O código `stacked = df.hstack(df2)` realiza uma concatenação <span style=\"color:yellow; font-weight:bold\">horizontal</span> dos DataFrames `df` e `df2`. \n",
    "\n",
    "### Detalhes da Operação\n",
    "\n",
    "- **`df.hstack(df2)`**: A função `hstack` é usada para empilhar (concatenar) os DataFrames horizontalmente. Isso significa que as colunas de `df2` são adicionadas ao lado das colunas de `df`.\n",
    "\n",
    "### Resultado\n",
    "\n",
    "O DataFrame resultante, `stacked`, terá as seguintes características:\n",
    "\n",
    "- **Número de Linhas**: O mesmo número de linhas que `df` e `df2`, assumindo que ambos têm o mesmo número de linhas.\n",
    "- **Número de Colunas**: O número total de colunas será a soma das colunas de `df` e `df2`.\n",
    "\n",
    "### Exemplo\n",
    "\n",
    "Suponha que `df` e `df2` sejam:\n",
    "\n",
    "```plaintext\n",
    "df:\n",
    "|  a |  b |\n",
    "|----|----|\n",
    "|  1 | 10 |\n",
    "|  2 | 20 |\n",
    "|  3 | 30 |\n",
    "\n",
    "df2:\n",
    "|  x |  y |\n",
    "|----|----|\n",
    "|  4 | A  |\n",
    "|  5 | B  |\n",
    "|  6 | C  |\n",
    "```\n",
    "\n",
    "Após executar `stacked = df.hstack(df2)`, o DataFrame `stacked` será:\n",
    "\n",
    "```plaintext\n",
    "stacked:\n",
    "|  a |  b |  x |  y |\n",
    "|----|----|----|----|\n",
    "|  1 | 10 |  4 | A  |\n",
    "|  2 | 20 |  5 | B  |\n",
    "|  3 | 30 |  6 | C  |\n",
    "```\n",
    "\n",
    "### Resumo\n",
    "\n",
    "- **Objetivo**: Concatenar dois DataFrames lado a lado.\n",
    "- **Resultado**: O DataFrame `stacked` contém todas as colunas de `df` e `df2` combinadas horizontalmente, mantendo o número de linhas inalterado."
   ]
  },
  {
   "cell_type": "markdown",
   "metadata": {},
   "source": [
    "No universo do Polars e da análise de dados, **concatenar** refere-se à operação de unir dois ou mais DataFrames (ou outras estruturas de dados) ao longo de um eixo, seja verticalmente (linha a linha) ou horizontalmente (coluna a coluna). Vamos ver cada uma das formas de concatenação com mais detalhes:\n",
    "\n",
    "### 1. **Concatenação Vertical**\n",
    "\n",
    "**Descrição:** Adiciona as linhas de um DataFrame abaixo das linhas de outro DataFrame. A estrutura de colunas dos DataFrames deve ser compatível (ou seja, as colunas devem ter os mesmos nomes e tipos).\n",
    "\n",
    "**Uso Típico:** Quando você deseja empilhar dados adicionais em um DataFrame existente. Por exemplo, juntar registros de diferentes períodos de tempo.\n",
    "\n",
    "**Exemplo em Polars:**\n",
    "\n",
    "```python\n",
    "df1 = pl.DataFrame({\"a\": [1, 2], \"b\": [3, 4]})\n",
    "df2 = pl.DataFrame({\"a\": [5, 6], \"b\": [7, 8]})\n",
    "\n",
    "concatenated = df1.vstack(df2)\n",
    "```\n",
    "\n",
    "**Resultado:**\n",
    "\n",
    "```plaintext\n",
    "| a | b |\n",
    "|---|---|\n",
    "| 1 | 3 |\n",
    "| 2 | 4 |\n",
    "| 5 | 7 |\n",
    "| 6 | 8 |\n",
    "```\n",
    "\n",
    "### 2. **Concatenação Horizontal**\n",
    "\n",
    "**Descrição:** Adiciona as colunas de um DataFrame ao lado das colunas de outro DataFrame. Os DataFrames devem ter o mesmo número de linhas para garantir que os dados sejam alinhados corretamente.\n",
    "\n",
    "**Uso Típico:** Quando você deseja combinar diferentes conjuntos de dados que compartilham a mesma linha de registros, mas têm diferentes atributos ou variáveis.\n",
    "\n",
    "**Exemplo em Polars:**\n",
    "\n",
    "```python\n",
    "df1 = pl.DataFrame({\"a\": [1, 2], \"b\": [3, 4]})\n",
    "df2 = pl.DataFrame({\"c\": [5, 6], \"d\": [7, 8]})\n",
    "\n",
    "concatenated = df1.hstack(df2)\n",
    "```\n",
    "\n",
    "**Resultado:**\n",
    "\n",
    "```plaintext\n",
    "| a | b | c | d |\n",
    "|---|---|---|---|\n",
    "| 1 | 3 | 5 | 7 |\n",
    "| 2 | 4 | 6 | 8 |\n",
    "```\n",
    "\n",
    "### Pontos Importantes\n",
    "\n",
    "- **Compatibilidade de Estrutura:** Para concatenação vertical, as colunas devem ser compatíveis. Para concatenação horizontal, o número de linhas deve ser o mesmo.\n",
    "- **Preservação de Índices:** Na concatenação vertical, os índices podem ser preservados ou reinicializados. Na concatenação horizontal, os índices das linhas permanecem inalterados.\n",
    "\n",
    "A concatenação é uma operação fundamental na manipulação de dados, usada para combinar dados de diferentes fontes ou formatos de maneira coesa. "
   ]
  },
  {
   "cell_type": "markdown",
   "metadata": {},
   "source": [
    "<div style=\"text-align: center; font-size: 24px; color:orange\">\n",
    "    FIM\n",
    "</div>"
   ]
  }
 ],
 "metadata": {
  "kernelspec": {
   "display_name": ".venv",
   "language": "python",
   "name": "python3"
  },
  "language_info": {
   "codemirror_mode": {
    "name": "ipython",
    "version": 3
   },
   "file_extension": ".py",
   "mimetype": "text/x-python",
   "name": "python",
   "nbconvert_exporter": "python",
   "pygments_lexer": "ipython3",
   "version": "3.12.4"
  }
 },
 "nbformat": 4,
 "nbformat_minor": 2
}
